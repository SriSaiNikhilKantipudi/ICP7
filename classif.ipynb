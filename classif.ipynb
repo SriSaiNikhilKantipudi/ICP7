{
  "nbformat": 4,
  "nbformat_minor": 0,
  "metadata": {
    "colab": {
      "name": "classif.ipynb",
      "provenance": []
    },
    "kernelspec": {
      "name": "python3",
      "display_name": "Python 3"
    }
  },
  "cells": [
    {
      "cell_type": "code",
      "metadata": {
        "id": "mFfDsXzCL_Y4",
        "colab_type": "code",
        "colab": {}
      },
      "source": [
        "from sklearn.datasets import fetch_20newsgroups\n",
        "from sklearn.feature_extraction.text import TfidfVectorizer\n",
        "from sklearn import metrics\n",
        "from sklearn.svm import SVC\n",
        "from sklearn.naive_bayes import MultinomialNB\n",
        "from sklearn.neighbors import KNeighborsClassifier\n"
      ],
      "execution_count": 0,
      "outputs": []
    },
    {
      "cell_type": "code",
      "metadata": {
        "id": "ldmPUaNdX9DC",
        "colab_type": "code",
        "colab": {
          "base_uri": "https://localhost:8080/",
          "height": 52
        },
        "outputId": "83e68248-60ce-4c1a-b130-74d170fb0a97"
      },
      "source": [
        "twenty_train = fetch_20newsgroups(subset='train', shuffle=True)"
      ],
      "execution_count": 2,
      "outputs": [
        {
          "output_type": "stream",
          "text": [
            "Downloading 20news dataset. This may take a few minutes.\n",
            "Downloading dataset from https://ndownloader.figshare.com/files/5975967 (14 MB)\n"
          ],
          "name": "stderr"
        }
      ]
    },
    {
      "cell_type": "code",
      "metadata": {
        "id": "ut_CGzNzYIkg",
        "colab_type": "code",
        "colab": {}
      },
      "source": [
        "tfidf_Vect = TfidfVectorizer()\n",
        "tfidf_Vect1 = TfidfVectorizer(ngram_range=(1, 2))\n",
        "tfidf_Vect2 = TfidfVectorizer(stop_words='english')\n"
      ],
      "execution_count": 0,
      "outputs": []
    },
    {
      "cell_type": "code",
      "metadata": {
        "id": "FLslo_zoYP2M",
        "colab_type": "code",
        "colab": {}
      },
      "source": [
        "X_train_tfidf = tfidf_Vect.fit_transform(twenty_train.data)\n",
        "X_train_tfidf1 = tfidf_Vect1.fit_transform(twenty_train.data)\n",
        "X_train_tfidf2 = tfidf_Vect2.fit_transform(twenty_train.data)"
      ],
      "execution_count": 0,
      "outputs": []
    },
    {
      "cell_type": "code",
      "metadata": {
        "id": "lSGh3mccYWey",
        "colab_type": "code",
        "colab": {
          "base_uri": "https://localhost:8080/",
          "height": 87
        },
        "outputId": "8a28d251-1f4e-4927-edae-ed306066a3ac"
      },
      "source": [
        "clf = MultinomialNB()\n",
        "clf.fit(X_train_tfidf, twenty_train.target)\n",
        "\n",
        "clf1 = MultinomialNB()\n",
        "clf1.fit(X_train_tfidf1, twenty_train.target)\n",
        "\n",
        "clf2 = MultinomialNB()\n",
        "clf2.fit(X_train_tfidf2, twenty_train.target)\n",
        "\n",
        "twenty_test = fetch_20newsgroups(subset='test', shuffle=True)\n",
        "X_test_tfidf = tfidf_Vect.transform(twenty_test.data)\n",
        "\n",
        "predicted = clf.predict(X_test_tfidf)\n",
        "\n",
        "score = round(metrics.accuracy_score(twenty_test.target, predicted), 4)\n",
        "print(\"MultinomialNB accuracy is: \", score)\n",
        "\n",
        "\n",
        "twenty_test1 = fetch_20newsgroups(subset='test', shuffle=True)\n",
        "X_test_tfidf1 = tfidf_Vect1.transform(twenty_test.data)\n",
        "\n",
        "predicted1 = clf1.predict(X_test_tfidf1)\n",
        "\n",
        "score1 = round(metrics.accuracy_score(twenty_test1.target, predicted1), 4)\n",
        "print(\"MultinomialNB accuracy when using bigram is: \", score1)\n",
        "\n",
        "twenty_test2 = fetch_20newsgroups(subset='test', shuffle=True)\n",
        "X_test_tfidf2 = tfidf_Vect2.transform(twenty_test.data)\n",
        "\n",
        "predicted2 = clf2.predict(X_test_tfidf2)\n",
        "\n",
        "score2 = round(metrics.accuracy_score(twenty_test2.target, predicted2), 4)\n",
        "print(\"MultinomialNB accuracy when adding the stop-words is: \", score2)\n",
        "\n",
        "\n",
        "svc = KNeighborsClassifier(n_neighbors=2)\n",
        "svc.fit(X_train_tfidf, twenty_train.target)\n",
        "\n",
        "acc_knn = round(svc.score(X_train_tfidf, twenty_train.target) * 100, 2)\n",
        "print(\"SVC accuracy is:\", acc_knn / 100)"
      ],
      "execution_count": 8,
      "outputs": [
        {
          "output_type": "stream",
          "text": [
            "MultinomialNB accuracy is:  0.7739\n",
            "MultinomialNB accuracy when using bigram is:  0.7654\n",
            "MultinomialNB accuracy when adding the stop-words is:  0.8169\n",
            "SVC accuracy is: 0.9257\n"
          ],
          "name": "stdout"
        }
      ]
    }
  ]
}